{
 "cells": [
  {
   "cell_type": "markdown",
   "id": "0ca0373e",
   "metadata": {},
   "source": [
    "# 🧠 OpenAI Vector Store Setup\n",
    "Dieses Notebook lädt eine Datei hoch, erstellt einen Vector Store, verbindet ihn mit einem Assistant und ermöglicht die semantische Suche mit GPT-4."
   ]
  },
  {
   "cell_type": "code",
   "execution_count": null,
   "id": "7564f4cd",
   "metadata": {},
   "outputs": [],
   "source": [
    "# 📦 Installiere notwendige Pakete\n",
    "!pip install openai python-dotenv"
   ]
  },
  {
   "cell_type": "code",
   "execution_count": null,
   "id": "eb886ecd",
   "metadata": {},
   "outputs": [],
   "source": [
    "# 🔐 API-Key einbinden (über .env Datei empfohlen)\n",
    "from dotenv import load_dotenv\n",
    "import os\n",
    "import openai\n",
    "\n",
    "load_dotenv()\n",
    "openai.api_key = os.getenv(\"OPENAI_API_KEY\")"
   ]
  },
  {
   "cell_type": "code",
   "execution_count": null,
   "id": "cf35af50",
   "metadata": {},
   "outputs": [],
   "source": [
    "# 📁 Datei hochladen\n",
    "from pathlib import Path\n",
    "\n",
    "file_path = \"data/dein_dokument.pdf\"  # Passe dies an deine Datei an\n",
    "file = openai.files.create(file=open(file_path, \"rb\"), purpose=\"assistants\")\n",
    "print(\"✅ Datei hochgeladen:\", file.id)"
   ]
  },
  {
   "cell_type": "code",
   "execution_count": null,
   "id": "1c05237f",
   "metadata": {},
   "outputs": [],
   "source": [
    "# 🧠 Vector Store erstellen\n",
    "vector_store = openai.beta.vector_stores.create(name=\"Mein Vector Store\")\n",
    "print(\"📌 Vector Store ID:\", vector_store.id)"
   ]
  },
  {
   "cell_type": "code",
   "execution_count": null,
   "id": "1062be87",
   "metadata": {},
   "outputs": [],
   "source": [
    "# ➕ Datei zum Vector Store hinzufügen\n",
    "openai.beta.vector_stores.file_batches.upload_and_poll(\n",
    "    vector_store_id=vector_store.id,\n",
    "    files=[file.id]\n",
    ")\n",
    "print(\"✅ Datei im Vector Store gespeichert\")"
   ]
  },
  {
   "cell_type": "code",
   "execution_count": null,
   "id": "e8bb6abf",
   "metadata": {},
   "outputs": [],
   "source": [
    "# 🤖 Assistant erstellen\n",
    "assistant = openai.beta.assistants.create(\n",
    "    name=\"Dokumenten-Helfer\",\n",
    "    instructions=\"Beantworte Fragen basierend auf dem Dokument.\",\n",
    "    tools=[{\"type\": \"retrieval\"}],\n",
    "    model=\"gpt-4\",\n",
    "    vector_store_ids=[vector_store.id],\n",
    ")\n",
    "print(\"🧠 Assistant-ID:\", assistant.id)"
   ]
  },
  {
   "cell_type": "code",
   "execution_count": null,
   "id": "6d684425",
   "metadata": {},
   "outputs": [],
   "source": [
    "# 💬 Thread starten\n",
    "thread = openai.beta.threads.create()\n",
    "print(\"💬 Thread-ID:\", thread.id)"
   ]
  },
  {
   "cell_type": "code",
   "execution_count": null,
   "id": "58ba07f1",
   "metadata": {},
   "outputs": [],
   "source": [
    "# ❓ Frage stellen und Antwort erhalten\n",
    "def frage_stellen(frage: str):\n",
    "    openai.beta.threads.messages.create(\n",
    "        thread_id=thread.id,\n",
    "        role=\"user\",\n",
    "        content=frage,\n",
    "    )\n",
    "    run = openai.beta.threads.runs.create_and_poll(\n",
    "        thread_id=thread.id,\n",
    "        assistant_id=assistant.id,\n",
    "    )\n",
    "    messages = openai.beta.threads.messages.list(thread_id=thread.id)\n",
    "    for msg in reversed(messages.data):\n",
    "        if msg.role == \"assistant\":\n",
    "            return msg.content[0].text.value\n",
    "    return \"Keine Antwort gefunden.\"\n",
    "\n",
    "# Beispiel-Frage:\n",
    "frage_stellen(\"Was steht in Kapitel 3?\")\n"
   ]
  },
  {
   "cell_type": "markdown",
   "id": "a033d09c",
   "metadata": {},
   "source": [
    "👉 Jetzt kannst du oben deine Datei anpassen und beliebige Fragen stellen."
   ]
  }
 ],
 "metadata": {
  "language_info": {
   "name": "python"
  }
 },
 "nbformat": 4,
 "nbformat_minor": 5
}
