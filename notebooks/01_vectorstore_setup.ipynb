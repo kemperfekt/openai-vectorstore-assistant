{
 "cells": [
  {
   "cell_type": "markdown",
   "id": "0ca0373e",
   "metadata": {},
   "source": [
    "# 🧠 OpenAI Vector Store Setup\n",
    "Dieses Notebook lädt eine Datei hoch, erstellt einen Vector Store, verbindet ihn mit einem Assistant und ermöglicht die semantische Suche mit GPT-4."
   ]
  },
  {
   "cell_type": "code",
   "execution_count": 13,
   "id": "7564f4cd",
   "metadata": {},
   "outputs": [
    {
     "name": "stdout",
     "output_type": "stream",
     "text": [
      "Requirement already satisfied: openai in /Users/philippkemper/Code/openai-vectorstore-assistant/.venv/lib/python3.13/site-packages (1.72.0)\n",
      "Requirement already satisfied: python-dotenv in /Users/philippkemper/Code/openai-vectorstore-assistant/.venv/lib/python3.13/site-packages (1.1.0)\n",
      "Requirement already satisfied: anyio<5,>=3.5.0 in /Users/philippkemper/Code/openai-vectorstore-assistant/.venv/lib/python3.13/site-packages (from openai) (4.9.0)\n",
      "Requirement already satisfied: distro<2,>=1.7.0 in /Users/philippkemper/Code/openai-vectorstore-assistant/.venv/lib/python3.13/site-packages (from openai) (1.9.0)\n",
      "Requirement already satisfied: httpx<1,>=0.23.0 in /Users/philippkemper/Code/openai-vectorstore-assistant/.venv/lib/python3.13/site-packages (from openai) (0.28.1)\n",
      "Requirement already satisfied: jiter<1,>=0.4.0 in /Users/philippkemper/Code/openai-vectorstore-assistant/.venv/lib/python3.13/site-packages (from openai) (0.9.0)\n",
      "Requirement already satisfied: pydantic<3,>=1.9.0 in /Users/philippkemper/Code/openai-vectorstore-assistant/.venv/lib/python3.13/site-packages (from openai) (2.11.3)\n",
      "Requirement already satisfied: sniffio in /Users/philippkemper/Code/openai-vectorstore-assistant/.venv/lib/python3.13/site-packages (from openai) (1.3.1)\n",
      "Requirement already satisfied: tqdm>4 in /Users/philippkemper/Code/openai-vectorstore-assistant/.venv/lib/python3.13/site-packages (from openai) (4.67.1)\n",
      "Requirement already satisfied: typing-extensions<5,>=4.11 in /Users/philippkemper/Code/openai-vectorstore-assistant/.venv/lib/python3.13/site-packages (from openai) (4.13.2)\n",
      "Requirement already satisfied: idna>=2.8 in /Users/philippkemper/Code/openai-vectorstore-assistant/.venv/lib/python3.13/site-packages (from anyio<5,>=3.5.0->openai) (3.10)\n",
      "Requirement already satisfied: certifi in /Users/philippkemper/Code/openai-vectorstore-assistant/.venv/lib/python3.13/site-packages (from httpx<1,>=0.23.0->openai) (2025.1.31)\n",
      "Requirement already satisfied: httpcore==1.* in /Users/philippkemper/Code/openai-vectorstore-assistant/.venv/lib/python3.13/site-packages (from httpx<1,>=0.23.0->openai) (1.0.7)\n",
      "Requirement already satisfied: h11<0.15,>=0.13 in /Users/philippkemper/Code/openai-vectorstore-assistant/.venv/lib/python3.13/site-packages (from httpcore==1.*->httpx<1,>=0.23.0->openai) (0.14.0)\n",
      "Requirement already satisfied: annotated-types>=0.6.0 in /Users/philippkemper/Code/openai-vectorstore-assistant/.venv/lib/python3.13/site-packages (from pydantic<3,>=1.9.0->openai) (0.7.0)\n",
      "Requirement already satisfied: pydantic-core==2.33.1 in /Users/philippkemper/Code/openai-vectorstore-assistant/.venv/lib/python3.13/site-packages (from pydantic<3,>=1.9.0->openai) (2.33.1)\n",
      "Requirement already satisfied: typing-inspection>=0.4.0 in /Users/philippkemper/Code/openai-vectorstore-assistant/.venv/lib/python3.13/site-packages (from pydantic<3,>=1.9.0->openai) (0.4.0)\n",
      "\n",
      "\u001b[1m[\u001b[0m\u001b[34;49mnotice\u001b[0m\u001b[1;39;49m]\u001b[0m\u001b[39;49m A new release of pip is available: \u001b[0m\u001b[31;49m25.0\u001b[0m\u001b[39;49m -> \u001b[0m\u001b[32;49m25.0.1\u001b[0m\n",
      "\u001b[1m[\u001b[0m\u001b[34;49mnotice\u001b[0m\u001b[1;39;49m]\u001b[0m\u001b[39;49m To update, run: \u001b[0m\u001b[32;49mpip install --upgrade pip\u001b[0m\n"
     ]
    }
   ],
   "source": [
    "# 📦 Installiere notwendige Pakete\n",
    "!pip install openai python-dotenv"
   ]
  },
  {
   "cell_type": "code",
   "execution_count": 14,
   "id": "eb886ecd",
   "metadata": {},
   "outputs": [],
   "source": [
    "# 🔐 API-Key einbinden (über .env Datei empfohlen)\n",
    "from dotenv import load_dotenv\n",
    "import os\n",
    "import openai\n",
    "\n",
    "load_dotenv()\n",
    "openai.api_key = os.getenv(\"OPENAI_API_KEY\")"
   ]
  },
  {
   "cell_type": "code",
   "execution_count": 15,
   "id": "cf35af50",
   "metadata": {},
   "outputs": [
    {
     "name": "stdout",
     "output_type": "stream",
     "text": [
      "✅ Datei hochgeladen: file-QDBXKxXsfMg1XmjH231Aht\n"
     ]
    }
   ],
   "source": [
    "# 📁 Datei hochladen\n",
    "from pathlib import Path\n",
    "\n",
    "file_path = \"../data/Hundeerziehung.docx\"\n",
    "file = openai.files.create(file=open(file_path, \"rb\"), purpose=\"assistants\")\n",
    "print(\"✅ Datei hochgeladen:\", file.id)"
   ]
  },
  {
   "cell_type": "code",
   "execution_count": 16,
   "id": "1c05237f",
   "metadata": {},
   "outputs": [
    {
     "name": "stdout",
     "output_type": "stream",
     "text": [
      "📌 Vector Store ID: vs_67f9782d630c8191871a49b7c41cd132\n"
     ]
    }
   ],
   "source": [
    "# 🧠 Vector Store erstellen\n",
    "from openai import OpenAI\n",
    "client = OpenAI()\n",
    "vector_store = client.vector_stores.create(name=\"MeinVektorStore\")\n",
    "print(\"📌 Vector Store ID:\", vector_store.id)"
   ]
  },
  {
   "cell_type": "code",
   "execution_count": 17,
   "id": "1062be87",
   "metadata": {},
   "outputs": [
    {
     "name": "stdout",
     "output_type": "stream",
     "text": [
      "✅ Datei im Vector Store gespeichert\n"
     ]
    }
   ],
   "source": [
    "# ➕ Datei zum Vector Store hinzufügen\n",
    "\n",
    "vector_store_file = client.vector_stores.files.create(\n",
    "  vector_store_id=vector_store.id,\n",
    "  file_id=file.id\n",
    ")\n",
    "\n",
    "print(\"✅ Datei im Vector Store gespeichert\")"
   ]
  },
  {
   "cell_type": "code",
   "execution_count": 18,
   "id": "103a4210",
   "metadata": {},
   "outputs": [
    {
     "name": "stdout",
     "output_type": "stream",
     "text": [
      "📁 Dateien im Vector Store:\n",
      "• Hundeerziehung.docx (ID: file-QDBXKxXsfMg1XmjH231Aht)\n"
     ]
    }
   ],
   "source": [
    "# 👉 Liste aller Dateien im Vector Store abrufen\n",
    "file_list = client.vector_stores.files.list(\n",
    "    vector_store_id=vector_store.id\n",
    ")\n",
    "\n",
    "print(\"📁 Dateien im Vector Store:\")\n",
    "for f in file_list.data:\n",
    "    file_info = client.files.retrieve(f.id)\n",
    "    print(f\"• {file_info.filename} (ID: {file_info.id})\")"
   ]
  },
  {
   "cell_type": "code",
   "execution_count": 19,
   "id": "e8bb6abf",
   "metadata": {},
   "outputs": [
    {
     "name": "stdout",
     "output_type": "stream",
     "text": [
      "🧠 Assistant-ID: asst_p90hmgIqZ56e17TkFNjzqBvc\n"
     ]
    }
   ],
   "source": [
    "# 🤖 Assistant erstellen\n",
    "assistant = client.beta.assistants.create(\n",
    "    name=\"Hunde-KI\",\n",
    "    instructions=\"Beantworte die Fragen ausschließlich mit den Inhalten aus dem Dokument. Wenn Du darin keine passende Antwort findest, gebe einen Hinweis aus, dass Du nichts gefunden hast.\",\n",
    "    tools=[{\"type\": \"file_search\"}],\n",
    "    tool_resources={\n",
    "        \"file_search\": {\n",
    "            \"vector_store_ids\": [\"vs_67f96f8dfd348191b3f2952ed650e3b0\"]\n",
    "        }\n",
    "    },\n",
    "    model=\"gpt-4o\",\n",
    ")\n",
    "print(\"🧠 Assistant-ID:\", assistant.id)"
   ]
  },
  {
   "cell_type": "code",
   "execution_count": 20,
   "id": "6d684425",
   "metadata": {},
   "outputs": [
    {
     "name": "stdout",
     "output_type": "stream",
     "text": [
      "💬 Thread-ID: thread_qAzSgnjGjM2iSNsuPt1AtkqK\n"
     ]
    }
   ],
   "source": [
    "# 💬 Thread starten\n",
    "thread = openai.beta.threads.create()\n",
    "print(\"💬 Thread-ID:\", thread.id)"
   ]
  },
  {
   "cell_type": "code",
   "execution_count": 21,
   "id": "58ba07f1",
   "metadata": {},
   "outputs": [
    {
     "data": {
      "text/plain": [
       "'Ein Hund bellt oft aus einem instinktiven Bedürfnis heraus, auf seine Umgebung zu reagieren. Zum Beispiel kann ein Hund bellen, wenn jemand an der Tür klingelt, um vor einer vermeintlichen Gefahr zu warnen. Dieses Verhalten entspringt dem Territorialinstinkt und dem sozialen Rudelinstinkt. Hunde können auch bellen und jaulen, wenn sie alleine gelassen werden, weil sie glauben, dass sie für die Sicherheit ihrer Besitzer verantwortlich sind und sich Sorgen machen, dass die Besitzer nicht gut auf sich aufpassen【4:0†Hundeerziehung.docx】.'"
      ]
     },
     "execution_count": 21,
     "metadata": {},
     "output_type": "execute_result"
    }
   ],
   "source": [
    "# ❓ Frage stellen und Antwort erhalten\n",
    "def frage_stellen(frage: str):\n",
    "    openai.beta.threads.messages.create(\n",
    "        thread_id=thread.id,\n",
    "        role=\"user\",\n",
    "        content=frage,\n",
    "    )\n",
    "    run = openai.beta.threads.runs.create_and_poll(\n",
    "        thread_id=thread.id,\n",
    "        assistant_id=assistant.id,\n",
    "    )\n",
    "    messages = openai.beta.threads.messages.list(thread_id=thread.id)\n",
    "    for msg in reversed(messages.data):\n",
    "        if msg.role == \"assistant\":\n",
    "            return msg.content[0].text.value\n",
    "    return \"Keine Antwort gefunden.\"\n",
    "\n",
    "# Beispiel-Frage:\n",
    "frage_stellen(\"Warum bellt ein Hund?\")\n"
   ]
  },
  {
   "cell_type": "markdown",
   "id": "a033d09c",
   "metadata": {},
   "source": [
    "👉 Jetzt kannst du oben deine Datei anpassen und beliebige Fragen stellen."
   ]
  }
 ],
 "metadata": {
  "kernelspec": {
   "display_name": ".venv",
   "language": "python",
   "name": "python3"
  },
  "language_info": {
   "codemirror_mode": {
    "name": "ipython",
    "version": 3
   },
   "file_extension": ".py",
   "mimetype": "text/x-python",
   "name": "python",
   "nbconvert_exporter": "python",
   "pygments_lexer": "ipython3",
   "version": "3.13.2"
  }
 },
 "nbformat": 4,
 "nbformat_minor": 5
}
