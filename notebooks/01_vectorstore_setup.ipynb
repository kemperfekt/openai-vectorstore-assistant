{
 "cells": [
  {
   "cell_type": "markdown",
   "id": "0ca0373e",
   "metadata": {},
   "source": [
    "# 🧠 OpenAI Vector Store Setup\n",
    "Dieses Notebook lädt eine Datei hoch, erstellt einen Vector Store, verbindet ihn mit einem Assistant und ermöglicht die semantische Suche mit GPT-4."
   ]
  },
  {
   "cell_type": "code",
   "execution_count": null,
   "id": "7564f4cd",
   "metadata": {},
   "outputs": [],
   "source": [
    "# 📦 Installiere notwendige Pakete\n",
    "!pip install openai python-dotenv"
   ]
  },
  {
   "cell_type": "code",
   "execution_count": 3,
   "id": "eb886ecd",
   "metadata": {},
   "outputs": [],
   "source": [
    "# 🔐 API-Key einbinden (über .env Datei empfohlen)\n",
    "from dotenv import load_dotenv\n",
    "import os\n",
    "import openai\n",
    "\n",
    "load_dotenv()\n",
    "openai.api_key = os.getenv(\"OPENAI_API_KEY\")"
   ]
  },
  {
   "cell_type": "code",
   "execution_count": 5,
   "id": "cf35af50",
   "metadata": {},
   "outputs": [
    {
     "name": "stdout",
     "output_type": "stream",
     "text": [
      "✅ Datei hochgeladen: file-LSaayutqGYLqEmUR54M4Ht\n"
     ]
    }
   ],
   "source": [
    "# 📁 Datei hochladen\n",
    "from pathlib import Path\n",
    "\n",
    "file_path = \"../data/content.pdf\"  # Passe dies an deine Datei an\n",
    "file = openai.files.create(file=open(file_path, \"rb\"), purpose=\"assistants\")\n",
    "print(\"✅ Datei hochgeladen:\", file.id)"
   ]
  },
  {
   "cell_type": "code",
   "execution_count": 14,
   "id": "1c05237f",
   "metadata": {},
   "outputs": [
    {
     "name": "stdout",
     "output_type": "stream",
     "text": [
      "📌 Vector Store ID: vs_67f81d72705881918e228b5b84653a26\n"
     ]
    }
   ],
   "source": [
    "# 🧠 Vector Store erstellen\n",
    "from openai import OpenAI\n",
    "client = OpenAI()\n",
    "vector_store = client.vector_stores.create(name=\"MeinVektorStore\")\n",
    "print(\"📌 Vector Store ID:\", vector_store.id)"
   ]
  },
  {
   "cell_type": "markdown",
   "id": "d149d293",
   "metadata": {},
   "source": []
  },
  {
   "cell_type": "markdown",
   "id": "dddfbc5b",
   "metadata": {},
   "source": []
  },
  {
   "cell_type": "code",
   "execution_count": 15,
   "id": "1062be87",
   "metadata": {},
   "outputs": [
    {
     "name": "stdout",
     "output_type": "stream",
     "text": [
      "✅ Datei im Vector Store gespeichert\n"
     ]
    }
   ],
   "source": [
    "# ➕ Datei zum Vector Store hinzufügen\n",
    "\n",
    "vector_store_file = client.vector_stores.files.create(\n",
    "  vector_store_id=\"vs_67f81d72705881918e228b5b84653a26\",\n",
    "  file_id=\"file-LSaayutqGYLqEmUR54M4Ht\"\n",
    ")\n",
    "\n",
    "#openai.beta.vector_stores.file_batches.upload_and_poll(\n",
    "#    vector_store_id=vector_store.id,\n",
    "#    files=[file.id]\n",
    "#)\n",
    "print(\"✅ Datei im Vector Store gespeichert\")"
   ]
  },
  {
   "cell_type": "code",
   "execution_count": 24,
   "id": "e8bb6abf",
   "metadata": {},
   "outputs": [
    {
     "name": "stdout",
     "output_type": "stream",
     "text": [
      "🧠 Assistant-ID: asst_gD8e064WP15q6ks3inNaDtW2\n"
     ]
    }
   ],
   "source": [
    "# 🤖 Assistant erstellen\n",
    "assistant = client.beta.assistants.create(\n",
    "    name=\"Hunde-KI\",\n",
    "    instructions=\"Beantworte Fragen basierend auf dem Dokument.\",\n",
    "    tools=[{\"type\": \"file_search\"}],\n",
    "    tool_resources={\n",
    "        \"file_search\": {\n",
    "            \"vector_store_ids\": [\"vs_67f81d72705881918e228b5b84653a26\"]\n",
    "        }\n",
    "    },\n",
    "    model=\"gpt-4o\",\n",
    ")\n",
    "print(\"🧠 Assistant-ID:\", assistant.id)"
   ]
  },
  {
   "cell_type": "code",
   "execution_count": 25,
   "id": "6d684425",
   "metadata": {},
   "outputs": [
    {
     "name": "stdout",
     "output_type": "stream",
     "text": [
      "💬 Thread-ID: thread_ppB7p30iqrgoouztgaCtRanO\n"
     ]
    }
   ],
   "source": [
    "# 💬 Thread starten\n",
    "thread = openai.beta.threads.create()\n",
    "print(\"💬 Thread-ID:\", thread.id)"
   ]
  },
  {
   "cell_type": "code",
   "execution_count": 26,
   "id": "58ba07f1",
   "metadata": {},
   "outputs": [
    {
     "data": {
      "text/plain": [
       "'Ein Hund bellt aus verschiedenen Gründen. Ein Hauptgrund ist die Kommunikation mit seinem Umfeld, einschließlich der Kommunikation von Bedürfnissen oder Warnungen. Hunde können auch bellen, um Aufmerksamkeit zu erhalten, aus Unsicherheit oder Angst, als Antwort auf unbekannte Reize oder als Ausdruck von Erregung oder Freude. Bellen kann auch ein Ausdruck territorialen Verhaltens sein, bei dem der Hund auf möglicherweise bedrohliche Bewegungen oder Personen reagiert【4:0†content.pdf】.'"
      ]
     },
     "execution_count": 26,
     "metadata": {},
     "output_type": "execute_result"
    }
   ],
   "source": [
    "# ❓ Frage stellen und Antwort erhalten\n",
    "def frage_stellen(frage: str):\n",
    "    openai.beta.threads.messages.create(\n",
    "        thread_id=thread.id,\n",
    "        role=\"user\",\n",
    "        content=frage,\n",
    "    )\n",
    "    run = openai.beta.threads.runs.create_and_poll(\n",
    "        thread_id=thread.id,\n",
    "        assistant_id=assistant.id,\n",
    "    )\n",
    "    messages = openai.beta.threads.messages.list(thread_id=thread.id)\n",
    "    for msg in reversed(messages.data):\n",
    "        if msg.role == \"assistant\":\n",
    "            return msg.content[0].text.value\n",
    "    return \"Keine Antwort gefunden.\"\n",
    "\n",
    "# Beispiel-Frage:\n",
    "frage_stellen(\"Warum bellt ein Hund?\")\n"
   ]
  },
  {
   "cell_type": "markdown",
   "id": "a033d09c",
   "metadata": {},
   "source": [
    "👉 Jetzt kannst du oben deine Datei anpassen und beliebige Fragen stellen."
   ]
  }
 ],
 "metadata": {
  "kernelspec": {
   "display_name": ".venv",
   "language": "python",
   "name": "python3"
  },
  "language_info": {
   "codemirror_mode": {
    "name": "ipython",
    "version": 3
   },
   "file_extension": ".py",
   "mimetype": "text/x-python",
   "name": "python",
   "nbconvert_exporter": "python",
   "pygments_lexer": "ipython3",
   "version": "3.13.2"
  }
 },
 "nbformat": 4,
 "nbformat_minor": 5
}
